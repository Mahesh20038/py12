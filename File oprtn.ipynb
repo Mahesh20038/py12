{
 "cells": [
  {
   "cell_type": "code",
   "execution_count": 4,
   "id": "b6813fdb",
   "metadata": {},
   "outputs": [
    {
     "ename": "ValueError",
     "evalue": "too many values to unpack (expected 2)",
     "output_type": "error",
     "traceback": [
      "\u001b[1;31m---------------------------------------------------------------------------\u001b[0m",
      "\u001b[1;31mValueError\u001b[0m                                Traceback (most recent call last)",
      "\u001b[1;32m~\\AppData\\Local\\Temp/ipykernel_19148/3289312860.py\u001b[0m in \u001b[0;36m<module>\u001b[1;34m\u001b[0m\n\u001b[0;32m     11\u001b[0m \u001b[1;31m# a) Barack Obama's speech\u001b[0m\u001b[1;33m\u001b[0m\u001b[1;33m\u001b[0m\u001b[0m\n\u001b[0;32m     12\u001b[0m \u001b[0mfile_path_obama\u001b[0m \u001b[1;33m=\u001b[0m \u001b[1;34m'speech_barack_obama.txt'\u001b[0m\u001b[1;33m\u001b[0m\u001b[1;33m\u001b[0m\u001b[0m\n\u001b[1;32m---> 13\u001b[1;33m \u001b[0mlines_obama\u001b[0m\u001b[1;33m,\u001b[0m \u001b[0mwords_obama\u001b[0m \u001b[1;33m=\u001b[0m \u001b[0mcount_lines_and_words\u001b[0m\u001b[1;33m(\u001b[0m\u001b[0mfile_path_obama\u001b[0m\u001b[1;33m)\u001b[0m\u001b[1;33m\u001b[0m\u001b[1;33m\u001b[0m\u001b[0m\n\u001b[0m\u001b[0;32m     14\u001b[0m \u001b[0mprint\u001b[0m\u001b[1;33m(\u001b[0m\u001b[1;34mf\"Barack Obama's speech: {lines_obama} lines, {words_obama} words\"\u001b[0m\u001b[1;33m)\u001b[0m\u001b[1;33m\u001b[0m\u001b[1;33m\u001b[0m\u001b[0m\n\u001b[0;32m     15\u001b[0m \u001b[1;33m\u001b[0m\u001b[0m\n",
      "\u001b[1;31mValueError\u001b[0m: too many values to unpack (expected 2)"
     ]
    }
   ],
   "source": [
    "def count_lines_and_words(file_path):\n",
    "    try:\n",
    "        with open(file_path, 'r', encoding='utf-8') as file:\n",
    "            lines = file.readlines()\n",
    "            line_count = len(lines)\n",
    "            word_count = sum(len(line.split()) for line in lines)\n",
    "        return line_count, word_count\n",
    "    except FileNotFoundError:\n",
    "        return f\"File not found: {file_path}\"\n",
    "\n",
    "# a) Barack Obama's speech\n",
    "file_path_obama = 'speech_barack_obama.txt'\n",
    "lines_obama, words_obama = count_lines_and_words(file_path_obama)\n",
    "print(f\"Barack Obama's speech: {lines_obama} lines, {words_obama} words\")\n",
    "\n",
    "# b) Michelle Obama's speech\n",
    "file_path_michelle = 'speech_michelle_obama.txt'\n",
    "lines_michelle, words_michelle = count_lines_and_words(file_path_michelle)\n",
    "print(f\"Michelle Obama's speech: {lines_michelle} lines, {words_michelle} words\")\n",
    "\n",
    "# c) Donald Trump's speech\n",
    "file_path_trump = 'speech_donald_trump.txt'\n",
    "lines_trump, words_trump = count_lines_and_words(file_path_trump)\n",
    "print(f\"Donald Trump's speech: {lines_trump} lines, {words_trump} words\")\n",
    "\n",
    "# d) Melania Trump's speech\n",
    "file_path_melania = 'speech_melania_trump.txt'\n",
    "lines_melania, words_melania = count_lines_and_words(file_path_melania)\n",
    "print(f\"Melania Trump's speech: {lines_melania} lines, {words_melania} words\")\n"
   ]
  },
  {
   "cell_type": "code",
   "execution_count": 14,
   "id": "844b8a9e",
   "metadata": {},
   "outputs": [
    {
     "ename": "SyntaxError",
     "evalue": "invalid syntax (Temp/ipykernel_19148/3159247364.py, line 1)",
     "output_type": "error",
     "traceback": [
      "\u001b[1;36m  File \u001b[1;32m\"C:\\Users\\User\\AppData\\Local\\Temp/ipykernel_19148/3159247364.py\"\u001b[1;36m, line \u001b[1;32m1\u001b[0m\n\u001b[1;33m    open(C:\\Users\\User\\Downloads\\speech_barack_obama.txt,'r', encoding='utf-8') as file\u001b[0m\n\u001b[1;37m          ^\u001b[0m\n\u001b[1;31mSyntaxError\u001b[0m\u001b[1;31m:\u001b[0m invalid syntax\n"
     ]
    }
   ],
   "source": [
    "open(C:\\Users\\User\\Downloads\\speech_barack_obama.txt,'r', encoding='utf-8') as file\n",
    "lines = file."
   ]
  },
  {
   "cell_type": "code",
   "execution_count": 18,
   "id": "f49dbd44",
   "metadata": {},
   "outputs": [
    {
     "name": "stdout",
     "output_type": "stream",
     "text": [
      "Total Number of lines: 66\n"
     ]
    }
   ],
   "source": [
    "with open(r\"D:\\praveen\\speech_barack_obama.txt\", 'r') as fp:\n",
    "    lines = len(fp.readlines())\n",
    "    print('Total Number of lines:', lines)"
   ]
  },
  {
   "cell_type": "code",
   "execution_count": 19,
   "id": "c5a09bf7",
   "metadata": {},
   "outputs": [
    {
     "ename": "NameError",
     "evalue": "name 'counter' is not defined",
     "output_type": "error",
     "traceback": [
      "\u001b[1;31m---------------------------------------------------------------------------\u001b[0m",
      "\u001b[1;31mNameError\u001b[0m                                 Traceback (most recent call last)",
      "\u001b[1;32m~\\AppData\\Local\\Temp/ipykernel_19148/3801651582.py\u001b[0m in \u001b[0;36m<module>\u001b[1;34m\u001b[0m\n\u001b[0;32m      8\u001b[0m \u001b[1;32mfor\u001b[0m \u001b[0mi\u001b[0m \u001b[1;32min\u001b[0m \u001b[0mCoList\u001b[0m\u001b[1;33m:\u001b[0m\u001b[1;33m\u001b[0m\u001b[1;33m\u001b[0m\u001b[0m\n\u001b[0;32m      9\u001b[0m     \u001b[1;32mif\u001b[0m \u001b[0mi\u001b[0m\u001b[1;33m:\u001b[0m\u001b[1;33m\u001b[0m\u001b[1;33m\u001b[0m\u001b[0m\n\u001b[1;32m---> 10\u001b[1;33m         \u001b[0mcounter\u001b[0m \u001b[1;33m+=\u001b[0m \u001b[1;36m1\u001b[0m\u001b[1;33m\u001b[0m\u001b[1;33m\u001b[0m\u001b[0m\n\u001b[0m\u001b[0;32m     11\u001b[0m \u001b[1;33m\u001b[0m\u001b[0m\n\u001b[0;32m     12\u001b[0m \u001b[0mprint\u001b[0m\u001b[1;33m(\u001b[0m\u001b[1;34m\"This is the number of lines in the file\"\u001b[0m\u001b[1;33m)\u001b[0m\u001b[1;33m\u001b[0m\u001b[1;33m\u001b[0m\u001b[0m\n",
      "\u001b[1;31mNameError\u001b[0m: name 'counter' is not defined"
     ]
    }
   ],
   "source": [
    "file = open(r\"D:\\praveen\\speech_barack_obama.txt\", \"r\")\n",
    "Counter = 0\n",
    "\n",
    "# Reading from file\n",
    "Content = file.read()\n",
    "CoList = Content.split(\"\\n\")\n",
    "\n",
    "for i in CoList:\n",
    "    if i:\n",
    "        counter += 1\n",
    "\n",
    "print(\"This is the number of lines in the file\")\n",
    "print(Counter)\n"
   ]
  },
  {
   "cell_type": "code",
   "execution_count": 26,
   "id": "9cef7cbd",
   "metadata": {},
   "outputs": [
    {
     "ename": "NameError",
     "evalue": "name 'contents' is not defined",
     "output_type": "error",
     "traceback": [
      "\u001b[1;31m---------------------------------------------------------------------------\u001b[0m",
      "\u001b[1;31mNameError\u001b[0m                                 Traceback (most recent call last)",
      "\u001b[1;32m~\\AppData\\Local\\Temp/ipykernel_19148/1637023086.py\u001b[0m in \u001b[0;36m<module>\u001b[1;34m\u001b[0m\n\u001b[0;32m     15\u001b[0m \u001b[1;33m\u001b[0m\u001b[0m\n\u001b[0;32m     16\u001b[0m \u001b[1;33m\u001b[0m\u001b[0m\n\u001b[1;32m---> 17\u001b[1;33m \u001b[0mword_list\u001b[0m \u001b[1;33m=\u001b[0m \u001b[0mcontents\u001b[0m\u001b[1;33m.\u001b[0m\u001b[0msplit\u001b[0m\u001b[1;33m(\u001b[0m\u001b[1;33m)\u001b[0m\u001b[1;33m\u001b[0m\u001b[1;33m\u001b[0m\u001b[0m\n\u001b[0m\u001b[0;32m     18\u001b[0m \u001b[0mnum_words\u001b[0m\u001b[1;33m=\u001b[0m\u001b[0mcustom_len\u001b[0m\u001b[1;33m(\u001b[0m\u001b[0mword_list\u001b[0m\u001b[1;33m)\u001b[0m\u001b[1;33m\u001b[0m\u001b[1;33m\u001b[0m\u001b[0m\n\u001b[0;32m     19\u001b[0m \u001b[1;33m\u001b[0m\u001b[0m\n",
      "\u001b[1;31mNameError\u001b[0m: name 'contents' is not defined"
     ]
    }
   ],
   "source": [
    "\n",
    "def custom_len(input_obj):\n",
    "    length = 0\n",
    "\n",
    "    try:\n",
    "        # Iterate over the elements in the object\n",
    "        for _ in input_obj:\n",
    "            length += 1\n",
    "    except TypeError:\n",
    "        return \"Object does not support iteration.\"\n",
    "\n",
    "    return length\n",
    "\n",
    "\n",
    "\n",
    "\n",
    "\n",
    "word_list = contents.split()\n",
    "num_words=custom_len(word_list)\n",
    "\n",
    "file=open(\"D:\\praveen\\speech_barack_obama.txt\",\"r\")\n",
    "num_lines = 0\n",
    "for line in file:\n",
    "    num_lines +=1\n",
    "file.close()\n",
    "print(\"number of words :\",num_words)\n",
    "print(\"number of lines :\",num_lines)\n",
    "\n"
   ]
  },
  {
   "cell_type": "code",
   "execution_count": 28,
   "id": "264f6a58",
   "metadata": {},
   "outputs": [
    {
     "name": "stdout",
     "output_type": "stream",
     "text": [
      "In speech of Barak obama\n",
      "Words:  2400\n",
      "Lines:  66\n",
      "Characters:  13342\n",
      "\n",
      "In speech of Michell obama\n",
      "Words:  2204\n",
      "Lines:  83\n",
      "Characters:  11789\n",
      "\n",
      "In speech of Melina trump\n",
      "Words:  1375\n",
      "Lines:  33\n",
      "Characters:  7489\n",
      "\n",
      "In speech of Donald trump\n",
      "Words:  1259\n",
      "Lines:  48\n",
      "Characters:  7276\n"
     ]
    }
   ],
   "source": [
    "def countWords(fileName):\n",
    "    numwords = 0\n",
    "    numchars = 0\n",
    "    numlines = 0\n",
    "\n",
    "    with open(fileName, 'r') as file:\n",
    "        for line in file:\n",
    "            wordlist = line.split()\n",
    "            numlines += 1\n",
    "            numwords += len(wordlist)\n",
    "            numchars += len(line)\n",
    "\n",
    "    print (\"Words: \", numwords)\n",
    "    print (\"Lines: \", numlines)\n",
    "    print (\"Characters: \", numchars)\n",
    "    \n",
    "if __name__ == '__main__':\n",
    "    print('In speech of Barak obama')\n",
    "    countWords('D:\\praveen\\speech_barack_obama.txt')\n",
    "    print('\\nIn speech of Michell obama')\n",
    "    countWords('D:\\praveen\\speech_michelle_obama.txt')\n",
    "    print('\\nIn speech of Melina trump')\n",
    "    countWords('D:\\praveen\\speech_melina_trump (1).txt')\n",
    "    print('\\nIn speech of Donald trump')\n",
    "    countWords('D:\\praveen\\speech_donald_trump.txt')"
   ]
  },
  {
   "cell_type": "code",
   "execution_count": 32,
   "id": "c969a540",
   "metadata": {},
   "outputs": [
    {
     "name": "stdout",
     "output_type": "stream",
     "text": [
      "Number of words in text file:  2431\n",
      "Number of lines in text file:  66\n",
      "Number of characters in text file:  10911\n",
      "Number of spaces in text file:  2365\n"
     ]
    }
   ],
   "source": [
    "def analyze_text_file(fname):\n",
    "\n",
    "\n",
    "    num_words = 0\n",
    "    num_lines = 0\n",
    "    num_charc = 0\n",
    "    num_spaces = 0\n",
    "    with open(fname, 'r') as f:\n",
    "        for line in f:\n",
    "            num_lines = num_lines+1\n",
    "            # declaring a variable word and assigning its value as Y\n",
    "            # because every file is supposed to start with a word or a character\n",
    "            word = 'Y'\n",
    "\n",
    "            # loop to iterate every\n",
    "            # line letter by letter\n",
    "            for letter in line:\n",
    "                # condition to check that the encountered character\n",
    "                # is not white space and a word\n",
    "                if (letter != ' ' and word == 'Y'):\n",
    "                    # incrementing the word\n",
    "                    # count by 1\n",
    "                    num_words += 1\n",
    "                    # assigning value N to variable word because until\n",
    "                    # space will not encounter a word can not be completed\n",
    "                    word = 'N'\n",
    "                # condition to check that the encountered character is a white space\n",
    "                elif (letter == ' '):\n",
    "                    # incrementing the space\n",
    "                    # count by 1\n",
    "                    num_spaces += 1\n",
    "                    # assigning value Y to variable word because after\n",
    "                    # white space a word is supposed to occur\n",
    "                    word = 'Y'\n",
    "                # loop to iterate every character\n",
    "                for i in letter:\n",
    "                    # condition to check white space\n",
    "                    if(i !=\" \" and i !=\"\\n\"):\n",
    "                        # incrementing character\n",
    "                        # count by 1\n",
    "                        num_charc += 1\n",
    "\n",
    "\n",
    "    print(\"Number of words in text file: \",num_words)\n",
    "    print(\"Number of lines in text file: \",num_lines)\n",
    "    print('Number of characters in text file: ',num_charc)\n",
    "    print('Number of spaces in text file: ',num_spaces)\n",
    "\n",
    "# Driver Code:\n",
    "if __name__ == '__main__':\n",
    "    fname = 'D:\\praveen\\speech_barack_obama.txt'\n",
    "    try:\n",
    "        analyze_text_file(fname)\n",
    "    except:\n",
    "        print('File not found')\n"
   ]
  },
  {
   "cell_type": "code",
   "execution_count": null,
   "id": "58d7601d",
   "metadata": {},
   "outputs": [],
   "source": []
  }
 ],
 "metadata": {
  "kernelspec": {
   "display_name": "Python 3 (ipykernel)",
   "language": "python",
   "name": "python3"
  },
  "language_info": {
   "codemirror_mode": {
    "name": "ipython",
    "version": 3
   },
   "file_extension": ".py",
   "mimetype": "text/x-python",
   "name": "python",
   "nbconvert_exporter": "python",
   "pygments_lexer": "ipython3",
   "version": "3.9.7"
  }
 },
 "nbformat": 4,
 "nbformat_minor": 5
}
